{
 "cells": [
  {
   "cell_type": "code",
   "execution_count": 1,
   "id": "0a24ada3",
   "metadata": {},
   "outputs": [],
   "source": [
    "import numpy as np\n",
    "from sklearn.linear_model import LinearRegression\n",
    "from sklearn.ensemble import RandomForestRegressor\n",
    "from sklearn.metrics import mean_absolute_error,mean_squared_error,r2_score"
   ]
  },
  {
   "cell_type": "code",
   "execution_count": 2,
   "id": "c1a5aad0",
   "metadata": {},
   "outputs": [],
   "source": [
    "X_train = np.load(r\"E:\\Nagendra\\projects\\house-price-prediction-ml-project\\data\\X_train_scaled.npy\")\n",
    "X_test = np.load(r\"E:\\Nagendra\\projects\\house-price-prediction-ml-project\\data\\X_test_scaled.npy\")\n",
    "y_train = np.load(r\"E:\\Nagendra\\projects\\house-price-prediction-ml-project\\data\\y_train.npy\")\n",
    "y_test = np.load(r\"E:\\Nagendra\\projects\\house-price-prediction-ml-project\\data\\y_test.npy\")\n"
   ]
  },
  {
   "cell_type": "code",
   "execution_count": 5,
   "id": "75ec441e",
   "metadata": {},
   "outputs": [
    {
     "name": "stdout",
     "output_type": "stream",
     "text": [
      "📊 Linear Regression\n",
      "R² Score   : 0.0550\n",
      "MAE        : 155813.35\n",
      "RMSE       : 963776511508.84\n"
     ]
    }
   ],
   "source": [
    "lr_model = LinearRegression()\n",
    "lr_model.fit(X_train, y_train)\n",
    "\n",
    "lr_preds = lr_model.predict(X_test)\n",
    "\n",
    "\n",
    "lr_r2 = r2_score(y_test, lr_preds)\n",
    "lr_mae = mean_absolute_error(y_test, lr_preds)\n",
    "lr_rmse = mean_squared_error(y_test, lr_preds)\n",
    "\n",
    "print(\"📊 Linear Regression\")\n",
    "print(f\"R² Score   : {lr_r2:.4f}\")\n",
    "print(f\"MAE        : {lr_mae:.2f}\")\n",
    "print(f\"RMSE       : {lr_rmse:.2f}\")"
   ]
  },
  {
   "cell_type": "code",
   "execution_count": 6,
   "id": "194d1126",
   "metadata": {},
   "outputs": [
    {
     "name": "stdout",
     "output_type": "stream",
     "text": [
      "\n",
      "🌲 Random Forest\n",
      "R² Score   : 0.0485\n",
      "MAE        : 156488.30\n",
      "RMSE       : 985096.10\n"
     ]
    }
   ],
   "source": [
    "rf_model  = RandomForestRegressor(n_estimators=100, random_state=42)\n",
    "rf_model.fit(X_train,y_train)\n",
    "\n",
    "rf_preds = rf_model.predict(X_test)\n",
    "\n",
    "\n",
    "rf_r2 = r2_score(y_test, rf_preds)\n",
    "rf_mae = mean_absolute_error(y_test, rf_preds)\n",
    "rf_rmse = np.sqrt(mean_squared_error(y_test, rf_preds))\n",
    "\n",
    "print(\"\\n🌲 Random Forest\")\n",
    "print(f\"R² Score   : {rf_r2:.4f}\")\n",
    "print(f\"MAE        : {rf_mae:.2f}\")\n",
    "print(f\"RMSE       : {rf_rmse:.2f}\")"
   ]
  },
  {
   "cell_type": "code",
   "execution_count": 7,
   "id": "b4fb55bd",
   "metadata": {},
   "outputs": [
    {
     "name": "stdout",
     "output_type": "stream",
     "text": [
      "✅ Random Forest model saved successfully!\n"
     ]
    }
   ],
   "source": [
    "import pickle\n",
    "\n",
    "with open(r\"E:\\Nagendra\\projects\\house-price-prediction-ml-project\\model\\best_model.pkl\", \"wb\") as f:\n",
    "    pickle.dump(rf_model, f)\n",
    "    \n",
    "print(\"✅ Random Forest model saved successfully!\")"
   ]
  },
  {
   "cell_type": "code",
   "execution_count": 9,
   "id": "3ae95106",
   "metadata": {},
   "outputs": [
    {
     "name": "stdout",
     "output_type": "stream",
     "text": [
      "✅ Scaler saved successfully!\n"
     ]
    }
   ],
   "source": [
    "from sklearn.preprocessing import StandardScaler\n",
    "scaler = StandardScaler()\n",
    "\n",
    "with open(r\"E:\\Nagendra\\projects\\house-price-prediction-ml-project\\model\\scaler.pkl\", \"wb\") as f:\n",
    "    pickle.dump(scaler, f)\n",
    "    \n",
    "print(\"✅ Scaler saved successfully!\")"
   ]
  },
  {
   "cell_type": "code",
   "execution_count": null,
   "id": "c5de2a2a",
   "metadata": {},
   "outputs": [],
   "source": []
  }
 ],
 "metadata": {
  "kernelspec": {
   "display_name": "venv",
   "language": "python",
   "name": "python3"
  },
  "language_info": {
   "codemirror_mode": {
    "name": "ipython",
    "version": 3
   },
   "file_extension": ".py",
   "mimetype": "text/x-python",
   "name": "python",
   "nbconvert_exporter": "python",
   "pygments_lexer": "ipython3",
   "version": "3.13.3"
  }
 },
 "nbformat": 4,
 "nbformat_minor": 5
}
