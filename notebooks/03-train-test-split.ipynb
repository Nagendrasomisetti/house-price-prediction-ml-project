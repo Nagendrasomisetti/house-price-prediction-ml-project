{
 "cells": [
  {
   "cell_type": "code",
   "execution_count": 4,
   "id": "bc6f915e",
   "metadata": {},
   "outputs": [
    {
     "name": "stdout",
     "output_type": "stream",
     "text": [
      "Training samples: 3680\n",
      "Testing samples: 920\n"
     ]
    }
   ],
   "source": [
    "import pandas as pd\n",
    "from sklearn.model_selection import train_test_split\n",
    "\n",
    "df = pd.read_csv(r\"E:\\Nagendra\\projects\\house-price-prediction-ml-project\\data\\Housing_cleaned.csv\")\n",
    "\n",
    "X = df.drop('price',axis = 1)\n",
    "y = df['price']\n",
    "\n",
    "\n",
    "X_train,X_test,y_train,y_test = train_test_split(X,y,test_size=0.2,random_state=42)\n",
    "\n",
    "print(f\"Training samples: {X_train.shape[0]}\")\n",
    "print(f\"Testing samples: {X_test.shape[0]}\")"
   ]
  },
  {
   "cell_type": "code",
   "execution_count": 5,
   "id": "1b8ce4ba",
   "metadata": {},
   "outputs": [
    {
     "data": {
      "text/plain": [
       "array([ 0.67051991,  0.43690203,  0.66097147,  0.87005417,  0.91040303,\n",
       "       -0.085972  , -0.30619401,  0.80882987,  1.10517908, -0.67958227,\n",
       "        0.62672137, -0.82251905, -0.19589466, -0.01648675, -0.25458754,\n",
       "       -0.046676  , -0.07755137, -0.12982868, -0.06608186, -0.046676  ,\n",
       "       -0.09365858, -0.10744675, -0.09799079, -0.08102192, -0.05219958,\n",
       "       -0.18517269,  0.        , -0.20685339, -0.11854728, -0.20756662,\n",
       "       -0.20969414, -0.09217092, -0.15002084, -0.05219958, -0.13409189,\n",
       "       -0.02331896, -0.08912367, -0.06179706, -0.09217092, -0.03298696,\n",
       "       -0.02331896, -0.03298696, -0.23526249, -0.25032465, -0.20107149,\n",
       "       -0.07755137, -0.72854789, -0.16366342, -0.02856366, -0.12543053,\n",
       "       -0.01648675, -0.08270396, -0.08270396,  6.21046637, -0.02856366,\n",
       "       -0.09065968, -0.10482848, -0.12543053, -0.08435336, -0.15560768,\n",
       "       -0.08912367, -0.10077929, -0.046676  , -0.07575799, -0.06608186,\n",
       "       -0.09799079, -0.08102192, -0.148116  , -0.05219958, -0.15002084,\n",
       "       -0.11972037, -0.13513813, -0.09656753, -0.11854728, -0.07010953,\n",
       "       -0.14423744, -0.1490712 , -0.15002084, -0.05219958, -0.13409189,\n",
       "       -0.15002084, -0.09217092, -0.03298696, -0.02331896, -0.03298696,\n",
       "       -0.17798675, -0.1490712 , -0.07755137, -0.12982868, -0.046676  ,\n",
       "       -0.13925007, -0.15376589, -0.12543053, -0.01648675, -0.08270396,\n",
       "       -0.11972037, -0.14618851, -0.13925007,  9.42104546, -0.12654348,\n",
       "       -0.07204054, -0.18595618, -0.09512378, -0.12317635, -0.11616757,\n",
       "       -0.09799079, -0.07204054, -0.12317635, -0.17717261, -0.1220346 ,\n",
       "       -0.16798861, -0.13197632, -0.10077929, -0.12654348, -0.14126448,\n",
       "       -0.13513813, -0.14325276, -0.11250879, -0.13513813, -0.10744675,\n",
       "       -0.05719736, -0.14126448, -0.11736313, -0.12543053, -0.11250879,\n",
       "       -0.10614533, -0.07010953, -0.10349562, -0.1208827 , -0.02856366,\n",
       "       -0.02331896])"
      ]
     },
     "execution_count": 5,
     "metadata": {},
     "output_type": "execute_result"
    }
   ],
   "source": [
    "from sklearn.preprocessing import StandardScaler\n",
    "scaler = StandardScaler()\n",
    "\n",
    "X_train_scaled = scaler.fit_transform(X_train)\n",
    "X_test_scaled = scaler.transform(X_test)\n",
    "\n",
    "X_train_scaled[0]"
   ]
  },
  {
   "cell_type": "code",
   "execution_count": 6,
   "id": "a724c92d",
   "metadata": {},
   "outputs": [],
   "source": [
    "import numpy as np\n",
    "\n",
    "np.save(r\"E:\\Nagendra\\projects\\house-price-prediction-ml-project\\data\\X_train_scaled.npy\", X_train_scaled)\n",
    "np.save(r\"E:\\Nagendra\\projects\\house-price-prediction-ml-project\\data\\X_test_scaled.npy\", X_test_scaled)\n",
    "np.save(r\"E:\\Nagendra\\projects\\house-price-prediction-ml-project\\data\\y_train.npy\", y_train)\n",
    "np.save(r\"E:\\Nagendra\\projects\\house-price-prediction-ml-project\\data\\y_test.npy\", y_test)\n"
   ]
  },
  {
   "cell_type": "code",
   "execution_count": null,
   "id": "45eab4ea",
   "metadata": {},
   "outputs": [],
   "source": []
  }
 ],
 "metadata": {
  "kernelspec": {
   "display_name": "venv",
   "language": "python",
   "name": "python3"
  },
  "language_info": {
   "codemirror_mode": {
    "name": "ipython",
    "version": 3
   },
   "file_extension": ".py",
   "mimetype": "text/x-python",
   "name": "python",
   "nbconvert_exporter": "python",
   "pygments_lexer": "ipython3",
   "version": "3.13.3"
  }
 },
 "nbformat": 4,
 "nbformat_minor": 5
}
